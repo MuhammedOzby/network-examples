{
 "cells": [
  {
   "cell_type": "code",
   "execution_count": 1,
   "id": "a74029e0",
   "metadata": {},
   "outputs": [
    {
     "name": "stdout",
     "output_type": "stream",
     "text": [
      "Collecting paramiko\n",
      "  Downloading paramiko-3.4.0-py3-none-any.whl (225 kB)\n",
      "\u001b[K     |████████████████████████████████| 225 kB 1.4 MB/s eta 0:00:01\n",
      "\u001b[?25hCollecting cryptography>=3.3\n",
      "  Downloading cryptography-42.0.8-cp37-abi3-manylinux_2_17_x86_64.manylinux2014_x86_64.whl (3.8 MB)\n",
      "\u001b[K     |████████████████████████████████| 3.8 MB 1.1 MB/s eta 0:00:01\n",
      "\u001b[?25hCollecting pynacl>=1.5\n",
      "  Downloading PyNaCl-1.5.0-cp36-abi3-manylinux_2_17_x86_64.manylinux2014_x86_64.manylinux_2_24_x86_64.whl (856 kB)\n",
      "\u001b[K     |████████████████████████████████| 856 kB 648 kB/s eta 0:00:01\n",
      "\u001b[?25hCollecting bcrypt>=3.2\n",
      "  Downloading bcrypt-4.1.3-cp37-abi3-manylinux_2_17_x86_64.manylinux2014_x86_64.whl (283 kB)\n",
      "\u001b[K     |████████████████████████████████| 283 kB 873 kB/s eta 0:00:01\n",
      "\u001b[?25hRequirement already satisfied: cffi>=1.12; platform_python_implementation != \"PyPy\" in /usr/local/lib/python3.7/site-packages (from cryptography>=3.3->paramiko) (1.15.1)\n",
      "Requirement already satisfied: pycparser in /usr/local/lib/python3.7/site-packages (from cffi>=1.12; platform_python_implementation != \"PyPy\"->cryptography>=3.3->paramiko) (2.21)\n",
      "Installing collected packages: cryptography, pynacl, bcrypt, paramiko\n",
      "Successfully installed bcrypt-4.1.3 cryptography-42.0.8 paramiko-3.4.0 pynacl-1.5.0\n",
      "\u001b[33mWARNING: You are using pip version 20.1.1; however, version 24.0 is available.\n",
      "You should consider upgrading via the '/usr/local/bin/python -m pip install --upgrade pip' command.\u001b[0m\n"
     ]
    }
   ],
   "source": [
    "!pip install paramiko"
   ]
  },
  {
   "cell_type": "code",
   "execution_count": 2,
   "id": "d844ad5f",
   "metadata": {},
   "outputs": [],
   "source": [
    "import paramiko"
   ]
  },
  {
   "cell_type": "code",
   "execution_count": 3,
   "id": "96d8514b",
   "metadata": {},
   "outputs": [],
   "source": [
    "ssh = paramiko.SSHClient()"
   ]
  },
  {
   "cell_type": "code",
   "execution_count": 4,
   "id": "53e28e02",
   "metadata": {},
   "outputs": [],
   "source": [
    "ssh.set_missing_host_key_policy(paramiko.AutoAddPolicy())"
   ]
  },
  {
   "cell_type": "code",
   "execution_count": 5,
   "id": "43621f4d",
   "metadata": {},
   "outputs": [],
   "source": [
    "ssh.connect('192.168.0.1', username='gns3', password='gns3')"
   ]
  },
  {
   "cell_type": "code",
   "execution_count": 6,
   "id": "ac846343",
   "metadata": {},
   "outputs": [],
   "source": [
    "stdin, stdout, stderr = ssh.exec_command('show version')"
   ]
  },
  {
   "cell_type": "code",
   "execution_count": 7,
   "id": "67486b12",
   "metadata": {},
   "outputs": [
    {
     "name": "stdout",
     "output_type": "stream",
     "text": [
      "Cisco IOS Software, 7200 Software (C7200-ADVENTERPRISEK9-M), Version 15.3(3)XB12, RELEASE SOFTWARE (fc2)\r\n",
      "Technical Support: http://www.cisco.com/techsupport\r\n",
      "Copyright (c) 1986-2013 by Cisco Systems, Inc.\r\n",
      "Compiled Tue 19-Nov-13 04:39 by prod_rel_team\r\n",
      "\r\n",
      "ROM: ROMMON Emulation Microcode\r\n",
      "BOOTLDR: 7200 Software (C7200-ADVENTERPRISEK9-M), Version 15.3(3)XB12, RELEASE SOFTWARE (fc2)\r\n",
      "\r\n",
      "R1 uptime is 28 minutes\r\n",
      "System returned to ROM by unknown reload cause - suspect boot_data[BOOT_COUNT] 0x0, BOOT_COUNT 0, BOOTDATA 19\r\n",
      "System image file is \"tftp://255.255.255.255/unknown\"\r\n",
      "Last reload reason: unknown reload cause - suspect boot_data[BOOT_COUNT] 0x0, BOOT_COUNT 0, BOOTDATA 19\r\n",
      "\r\n",
      "\r\n",
      "\r\n",
      "This product contains cryptographic features and is subject to United\r\n",
      "States and local country laws governing import, export, transfer and\r\n",
      "use. Delivery of Cisco cryptographic products does not imply\r\n",
      "third-party authority to import, export, distribute or use encryption.\r\n",
      "Importers, exporters, distributors and users are responsible for\r\n",
      "compliance with U.S. and local country laws. By using this product you\r\n",
      "agree to comply with applicable laws and regulations. If you are unable\r\n",
      "to comply with U.S. and local laws, return this product immediately.\r\n",
      "\r\n",
      "A summary of U.S. laws governing Cisco cryptographic products may be found at:\r\n",
      "http://www.cisco.com/wwl/export/crypto/tool/stqrg.html\r\n",
      "\r\n",
      "If you require further assistance please contact us by sending email to\r\n",
      "export@cisco.com.\r\n",
      "\r\n",
      "Cisco 7206VXR (NPE400) processor (revision A) with 491520K/32768K bytes of memory.\r\n",
      "Processor board ID 4279256517\r\n",
      "R7000 CPU at 150MHz, Implementation 39, Rev 2.1, 256KB L2 Cache\r\n",
      "6 slot VXR midplane, Version 2.1\r\n",
      "\r\n",
      "Last reset from power-on\r\n",
      "\r\n",
      "PCI bus mb0_mb1 (Slots 0, 1, 3 and 5) has a capacity of 600 bandwidth points.\r\n",
      "Current configuration on bus mb0_mb1 has a total of 200 bandwidth points. \r\n",
      "This configuration is within the PCI bus capacity and is supported. \r\n",
      "\r\n",
      "PCI bus mb2 (Slots 2, 4, 6) has a capacity of 600 bandwidth points.\r\n",
      "Current configuration on bus mb2 has a total of 0 bandwidth points \r\n",
      "This configuration is within the PCI bus capacity and is supported. \r\n",
      "\r\n",
      "Please refer to the following document \"Cisco 7200 Series Port Adaptor\r\n",
      "Hardware Configuration Guidelines\" on Cisco.com <http://www.cisco.com>\r\n",
      "for c7200 bandwidth points oversubscription and usage guidelines.\r\n",
      "\r\n",
      "\r\n",
      "1 FastEthernet interface\r\n",
      "509K bytes of NVRAM.\r\n",
      "\r\n",
      "8192K bytes of Flash internal SIMM (Sector size 256K).\r\n",
      "\r\n",
      "\r\n",
      "Configuration register is 0x2102\r\n",
      "\n"
     ]
    }
   ],
   "source": [
    "print(stdout.read().decode())"
   ]
  },
  {
   "cell_type": "code",
   "execution_count": 8,
   "id": "f21a8f7c",
   "metadata": {},
   "outputs": [],
   "source": [
    "ssh.close()"
   ]
  },
  {
   "cell_type": "code",
   "execution_count": 9,
   "id": "8c428c5a",
   "metadata": {},
   "outputs": [
    {
     "name": "stdout",
     "output_type": "stream",
     "text": [
      "SON\n"
     ]
    }
   ],
   "source": [
    "print(\"SON\")"
   ]
  },
  {
   "cell_type": "code",
   "execution_count": null,
   "id": "718a8175",
   "metadata": {},
   "outputs": [],
   "source": []
  }
 ],
 "metadata": {
  "kernelspec": {
   "display_name": "Python 3 (ipykernel)",
   "language": "python",
   "name": "python3"
  },
  "language_info": {
   "codemirror_mode": {
    "name": "ipython",
    "version": 3
   },
   "file_extension": ".py",
   "mimetype": "text/x-python",
   "name": "python",
   "nbconvert_exporter": "python",
   "pygments_lexer": "ipython3",
   "version": "3.7.7"
  }
 },
 "nbformat": 4,
 "nbformat_minor": 5
}
